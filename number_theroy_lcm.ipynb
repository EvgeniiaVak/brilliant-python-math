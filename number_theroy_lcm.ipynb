{
 "cells": [
  {
   "cell_type": "code",
   "execution_count": 1,
   "metadata": {},
   "outputs": [
    {
     "name": "stdout",
     "output_type": "stream",
     "text": [
      "Dependencies imported\n"
     ]
    }
   ],
   "source": [
    "import number_theory_functions as f\n",
    "print('Dependencies imported')"
   ]
  },
  {
   "cell_type": "markdown",
   "metadata": {},
   "source": [
    "## The Least Common Multiple (LCM) of two integers can be found by figuring out their prime factors."
   ]
  },
  {
   "cell_type": "code",
   "execution_count": 6,
   "metadata": {},
   "outputs": [
    {
     "name": "stdout",
     "output_type": "stream",
     "text": [
      "factors of a: [2, 3]\n",
      "factors of b: [2, 5]\n",
      "lcm(6,10)=30\n",
      "and its prime factors are: [2, 3, 5]\n"
     ]
    }
   ],
   "source": [
    "# For example let's take integers a and b\n",
    "a=6\n",
    "b=10\n",
    "print(\"factors of a:\",f.prime_factors_list(a))\n",
    "print(\"factors of b:\",f.prime_factors_list(b))\n",
    "\n",
    "# Notice that if the two numbers have common factors these will be present in the lcm only once \n",
    "lcm=f.lcm(a,b)\n",
    "print(\"lcm({},{})={}\".format(a, b, lcm))\n",
    "print(\"and its prime factors are:\", f.prime_factors_list(lcm))"
   ]
  },
  {
   "cell_type": "code",
   "execution_count": 5,
   "metadata": {},
   "outputs": [
    {
     "name": "stdout",
     "output_type": "stream",
     "text": [
      "factors:  [7, 3, 2]\n",
      "the number from the factors:  42\n"
     ]
    }
   ],
   "source": [
    "# It is only logical when you think of numbers as of collections of their factors\n",
    "list_of_factors=[7,3,2]\n",
    "print(\"factors: \", list_of_factors)\n",
    "\n",
    "number=f.number_from(list_of_factors)\n",
    "print(\"the number from the factors: \", number)"
   ]
  },
  {
   "cell_type": "code",
   "execution_count": 13,
   "metadata": {},
   "outputs": [
    {
     "name": "stdout",
     "output_type": "stream",
     "text": [
      "All factors, except the last: [7, 3] would form a number 21.\n",
      "All factors, except the first: [3, 2] would form a number 6.\n"
     ]
    }
   ],
   "source": [
    "# Such a number (or the super collection) will be the multiple of every sub-collection\n",
    "\n",
    "col_a=list_of_factors[0:-1]\n",
    "na=f.number_from(col_a)\n",
    "\n",
    "col_b=list_of_factors[1:]\n",
    "nb=f.number_from(col_b)\n",
    "\n",
    "print(\"All factors, except the last: {} would form a number {}.\".format(col_a, na))\n",
    "print(\"All factors, except the first: {} would form a number {}.\".format(col_b, nb))"
   ]
  },
  {
   "cell_type": "markdown",
   "metadata": {},
   "source": [
    "For a number to be the LEAST common multiple of two numbers it's collection of factors should include only those, that are present in at least one of the two numbers and no more extra factors. By the fundamental theorem of arithmetic every number has a unique collection of prime factors, that's why we can use them for being the collections and don't be afraid of forgeting that for example 12 has 2 of 6."
   ]
  }
 ],
 "metadata": {
  "kernelspec": {
   "display_name": "Python 3",
   "language": "python",
   "name": "python3"
  },
  "language_info": {
   "codemirror_mode": {
    "name": "ipython",
    "version": 3
   },
   "file_extension": ".py",
   "mimetype": "text/x-python",
   "name": "python",
   "nbconvert_exporter": "python",
   "pygments_lexer": "ipython3",
   "version": "3.7.1"
  }
 },
 "nbformat": 4,
 "nbformat_minor": 2
}
